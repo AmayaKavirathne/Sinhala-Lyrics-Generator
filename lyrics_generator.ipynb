{
 "cells": [
  {
   "cell_type": "code",
   "execution_count": 1,
   "id": "8e70b35d",
   "metadata": {
    "_cell_guid": "b1076dfc-b9ad-4769-8c92-a6c4dae69d19",
    "_uuid": "8f2839f25d086af736a60e9eeb907d3b93b6e0e5",
    "execution": {
     "iopub.execute_input": "2024-01-17T07:05:26.192822Z",
     "iopub.status.busy": "2024-01-17T07:05:26.192122Z",
     "iopub.status.idle": "2024-01-17T07:05:26.640958Z",
     "shell.execute_reply": "2024-01-17T07:05:26.639636Z"
    },
    "papermill": {
     "duration": 0.462146,
     "end_time": "2024-01-17T07:05:26.643552",
     "exception": false,
     "start_time": "2024-01-17T07:05:26.181406",
     "status": "completed"
    },
    "tags": []
   },
   "outputs": [
    {
     "name": "stdout",
     "output_type": "stream",
     "text": [
      "/kaggle/input/genius-song-lyrics-with-language-information/song_lyrics.csv\n"
     ]
    }
   ],
   "source": [
    "# This Python 3 environment comes with many helpful analytics libraries installed\n",
    "# It is defined by the kaggle/python Docker image: https://github.com/kaggle/docker-python\n",
    "# For example, here's several helpful packages to load\n",
    "\n",
    "import numpy as np # linear algebra\n",
    "import pandas as pd # data processing, CSV file I/O (e.g. pd.read_csv)\n",
    "\n",
    "# Input data files are available in the read-only \"../input/\" directory\n",
    "# For example, running this (by clicking run or pressing Shift+Enter) will list all files under the input directory\n",
    "\n",
    "import os\n",
    "for dirname, _, filenames in os.walk('/kaggle/input'):\n",
    "    for filename in filenames:\n",
    "        print(os.path.join(dirname, filename))\n",
    "\n",
    "# You can write up to 20GB to the current directory (/kaggle/working/) that gets preserved as output when you create a version using \"Save & Run All\" \n",
    "# You can also write temporary files to /kaggle/temp/, but they won't be saved outside of the current session"
   ]
  },
  {
   "cell_type": "code",
   "execution_count": 2,
   "id": "33834671",
   "metadata": {
    "execution": {
     "iopub.execute_input": "2024-01-17T07:05:26.661848Z",
     "iopub.status.busy": "2024-01-17T07:05:26.661048Z",
     "iopub.status.idle": "2024-01-17T07:05:42.261677Z",
     "shell.execute_reply": "2024-01-17T07:05:42.260553Z"
    },
    "papermill": {
     "duration": 15.613476,
     "end_time": "2024-01-17T07:05:42.264655",
     "exception": false,
     "start_time": "2024-01-17T07:05:26.651179",
     "status": "completed"
    },
    "tags": []
   },
   "outputs": [],
   "source": [
    "import pandas as pd\n",
    "import numpy as np\n",
    "import seaborn as sns\n",
    "import matplotlib.pyplot as plt\n",
    "from wordcloud import WordCloud, STOPWORDS, ImageColorGenerator\n",
    "import string, os \n",
    "import tensorflow as tf\n",
    "\n",
    "# keras module for building LSTM \n",
    "from keras.preprocessing.sequence import pad_sequences\n",
    "from tensorflow.keras.layers import Embedding, Dropout, LSTM, Dense, Bidirectional \n",
    "from keras.preprocessing.text import Tokenizer\n",
    "from keras.callbacks import EarlyStopping\n",
    "from keras.models import Sequential"
   ]
  },
  {
   "cell_type": "code",
   "execution_count": 3,
   "id": "127ebbdd",
   "metadata": {
    "execution": {
     "iopub.execute_input": "2024-01-17T07:05:42.283305Z",
     "iopub.status.busy": "2024-01-17T07:05:42.281649Z",
     "iopub.status.idle": "2024-01-17T07:10:06.020835Z",
     "shell.execute_reply": "2024-01-17T07:10:06.018337Z"
    },
    "papermill": {
     "duration": 263.754437,
     "end_time": "2024-01-17T07:10:06.027059",
     "exception": false,
     "start_time": "2024-01-17T07:05:42.272622",
     "status": "completed"
    },
    "tags": []
   },
   "outputs": [],
   "source": [
    "df = pd.read_csv('/kaggle/input/genius-song-lyrics-with-language-information/song_lyrics.csv')"
   ]
  },
  {
   "cell_type": "code",
   "execution_count": 4,
   "id": "c2aceae2",
   "metadata": {
    "execution": {
     "iopub.execute_input": "2024-01-17T07:10:06.049157Z",
     "iopub.status.busy": "2024-01-17T07:10:06.048663Z",
     "iopub.status.idle": "2024-01-17T07:10:06.085699Z",
     "shell.execute_reply": "2024-01-17T07:10:06.084763Z"
    },
    "papermill": {
     "duration": 0.051118,
     "end_time": "2024-01-17T07:10:06.089374",
     "exception": false,
     "start_time": "2024-01-17T07:10:06.038256",
     "status": "completed"
    },
    "tags": []
   },
   "outputs": [
    {
     "data": {
      "text/html": [
       "<div>\n",
       "<style scoped>\n",
       "    .dataframe tbody tr th:only-of-type {\n",
       "        vertical-align: middle;\n",
       "    }\n",
       "\n",
       "    .dataframe tbody tr th {\n",
       "        vertical-align: top;\n",
       "    }\n",
       "\n",
       "    .dataframe thead th {\n",
       "        text-align: right;\n",
       "    }\n",
       "</style>\n",
       "<table border=\"1\" class=\"dataframe\">\n",
       "  <thead>\n",
       "    <tr style=\"text-align: right;\">\n",
       "      <th></th>\n",
       "      <th>title</th>\n",
       "      <th>tag</th>\n",
       "      <th>artist</th>\n",
       "      <th>year</th>\n",
       "      <th>views</th>\n",
       "      <th>features</th>\n",
       "      <th>lyrics</th>\n",
       "      <th>id</th>\n",
       "      <th>language_cld3</th>\n",
       "      <th>language_ft</th>\n",
       "      <th>language</th>\n",
       "    </tr>\n",
       "  </thead>\n",
       "  <tbody>\n",
       "    <tr>\n",
       "      <th>0</th>\n",
       "      <td>Killa Cam</td>\n",
       "      <td>rap</td>\n",
       "      <td>Cam'ron</td>\n",
       "      <td>2004</td>\n",
       "      <td>173166</td>\n",
       "      <td>{\"Cam\\\\'ron\",\"Opera Steve\"}</td>\n",
       "      <td>[Chorus: Opera Steve &amp; Cam'ron]\\nKilla Cam, Ki...</td>\n",
       "      <td>1</td>\n",
       "      <td>en</td>\n",
       "      <td>en</td>\n",
       "      <td>en</td>\n",
       "    </tr>\n",
       "    <tr>\n",
       "      <th>1</th>\n",
       "      <td>Can I Live</td>\n",
       "      <td>rap</td>\n",
       "      <td>JAY-Z</td>\n",
       "      <td>1996</td>\n",
       "      <td>468624</td>\n",
       "      <td>{}</td>\n",
       "      <td>[Produced by Irv Gotti]\\n\\n[Intro]\\nYeah, hah,...</td>\n",
       "      <td>3</td>\n",
       "      <td>en</td>\n",
       "      <td>en</td>\n",
       "      <td>en</td>\n",
       "    </tr>\n",
       "    <tr>\n",
       "      <th>2</th>\n",
       "      <td>Forgive Me Father</td>\n",
       "      <td>rap</td>\n",
       "      <td>Fabolous</td>\n",
       "      <td>2003</td>\n",
       "      <td>4743</td>\n",
       "      <td>{}</td>\n",
       "      <td>Maybe cause I'm eatin\\nAnd these bastards fien...</td>\n",
       "      <td>4</td>\n",
       "      <td>en</td>\n",
       "      <td>en</td>\n",
       "      <td>en</td>\n",
       "    </tr>\n",
       "    <tr>\n",
       "      <th>3</th>\n",
       "      <td>Down and Out</td>\n",
       "      <td>rap</td>\n",
       "      <td>Cam'ron</td>\n",
       "      <td>2004</td>\n",
       "      <td>144404</td>\n",
       "      <td>{\"Cam\\\\'ron\",\"Kanye West\",\"Syleena Johnson\"}</td>\n",
       "      <td>[Produced by Kanye West and Brian Miller]\\n\\n[...</td>\n",
       "      <td>5</td>\n",
       "      <td>en</td>\n",
       "      <td>en</td>\n",
       "      <td>en</td>\n",
       "    </tr>\n",
       "    <tr>\n",
       "      <th>4</th>\n",
       "      <td>Fly In</td>\n",
       "      <td>rap</td>\n",
       "      <td>Lil Wayne</td>\n",
       "      <td>2005</td>\n",
       "      <td>78271</td>\n",
       "      <td>{}</td>\n",
       "      <td>[Intro]\\nSo they ask me\\n\"Young boy\\nWhat you ...</td>\n",
       "      <td>6</td>\n",
       "      <td>en</td>\n",
       "      <td>en</td>\n",
       "      <td>en</td>\n",
       "    </tr>\n",
       "  </tbody>\n",
       "</table>\n",
       "</div>"
      ],
      "text/plain": [
       "               title  tag     artist  year   views  \\\n",
       "0          Killa Cam  rap    Cam'ron  2004  173166   \n",
       "1         Can I Live  rap      JAY-Z  1996  468624   \n",
       "2  Forgive Me Father  rap   Fabolous  2003    4743   \n",
       "3       Down and Out  rap    Cam'ron  2004  144404   \n",
       "4             Fly In  rap  Lil Wayne  2005   78271   \n",
       "\n",
       "                                       features  \\\n",
       "0                   {\"Cam\\\\'ron\",\"Opera Steve\"}   \n",
       "1                                            {}   \n",
       "2                                            {}   \n",
       "3  {\"Cam\\\\'ron\",\"Kanye West\",\"Syleena Johnson\"}   \n",
       "4                                            {}   \n",
       "\n",
       "                                              lyrics  id language_cld3  \\\n",
       "0  [Chorus: Opera Steve & Cam'ron]\\nKilla Cam, Ki...   1            en   \n",
       "1  [Produced by Irv Gotti]\\n\\n[Intro]\\nYeah, hah,...   3            en   \n",
       "2  Maybe cause I'm eatin\\nAnd these bastards fien...   4            en   \n",
       "3  [Produced by Kanye West and Brian Miller]\\n\\n[...   5            en   \n",
       "4  [Intro]\\nSo they ask me\\n\"Young boy\\nWhat you ...   6            en   \n",
       "\n",
       "  language_ft language  \n",
       "0          en       en  \n",
       "1          en       en  \n",
       "2          en       en  \n",
       "3          en       en  \n",
       "4          en       en  "
      ]
     },
     "execution_count": 4,
     "metadata": {},
     "output_type": "execute_result"
    }
   ],
   "source": [
    "# first few rows\n",
    "df.head()"
   ]
  },
  {
   "cell_type": "code",
   "execution_count": 5,
   "id": "91b8ddca",
   "metadata": {
    "execution": {
     "iopub.execute_input": "2024-01-17T07:10:06.108275Z",
     "iopub.status.busy": "2024-01-17T07:10:06.107311Z",
     "iopub.status.idle": "2024-01-17T07:10:06.580925Z",
     "shell.execute_reply": "2024-01-17T07:10:06.579976Z"
    },
    "papermill": {
     "duration": 0.486035,
     "end_time": "2024-01-17T07:10:06.583687",
     "exception": false,
     "start_time": "2024-01-17T07:10:06.097652",
     "status": "completed"
    },
    "tags": []
   },
   "outputs": [],
   "source": [
    "# drop tag, year, views, features, artist\n",
    "df.drop(['tag','year','views', 'features', 'artist'],axis=1,inplace=True)"
   ]
  },
  {
   "cell_type": "code",
   "execution_count": 6,
   "id": "766447f3",
   "metadata": {
    "execution": {
     "iopub.execute_input": "2024-01-17T07:10:06.602366Z",
     "iopub.status.busy": "2024-01-17T07:10:06.601560Z",
     "iopub.status.idle": "2024-01-17T07:10:06.609022Z",
     "shell.execute_reply": "2024-01-17T07:10:06.607928Z"
    },
    "papermill": {
     "duration": 0.019885,
     "end_time": "2024-01-17T07:10:06.611709",
     "exception": false,
     "start_time": "2024-01-17T07:10:06.591824",
     "status": "completed"
    },
    "tags": []
   },
   "outputs": [
    {
     "data": {
      "text/plain": [
       "(5134856, 6)"
      ]
     },
     "execution_count": 6,
     "metadata": {},
     "output_type": "execute_result"
    }
   ],
   "source": [
    "# shape\n",
    "df.shape"
   ]
  },
  {
   "cell_type": "code",
   "execution_count": 7,
   "id": "06d846d2",
   "metadata": {
    "execution": {
     "iopub.execute_input": "2024-01-17T07:10:06.630965Z",
     "iopub.status.busy": "2024-01-17T07:10:06.630538Z",
     "iopub.status.idle": "2024-01-17T07:10:07.529690Z",
     "shell.execute_reply": "2024-01-17T07:10:07.528553Z"
    },
    "papermill": {
     "duration": 0.912405,
     "end_time": "2024-01-17T07:10:07.532716",
     "exception": false,
     "start_time": "2024-01-17T07:10:06.620311",
     "status": "completed"
    },
    "tags": []
   },
   "outputs": [
    {
     "data": {
      "text/plain": [
       "302"
      ]
     },
     "execution_count": 7,
     "metadata": {},
     "output_type": "execute_result"
    }
   ],
   "source": [
    "# no of sinhala songs in the dataset\n",
    "df['language'].value_counts().loc['si']"
   ]
  },
  {
   "cell_type": "code",
   "execution_count": 8,
   "id": "24291c2d",
   "metadata": {
    "execution": {
     "iopub.execute_input": "2024-01-17T07:10:07.559943Z",
     "iopub.status.busy": "2024-01-17T07:10:07.559499Z",
     "iopub.status.idle": "2024-01-17T07:10:08.441746Z",
     "shell.execute_reply": "2024-01-17T07:10:08.440403Z"
    },
    "papermill": {
     "duration": 0.899032,
     "end_time": "2024-01-17T07:10:08.444695",
     "exception": false,
     "start_time": "2024-01-17T07:10:07.545663",
     "status": "completed"
    },
    "tags": []
   },
   "outputs": [
    {
     "data": {
      "text/plain": [
       "307"
      ]
     },
     "execution_count": 8,
     "metadata": {},
     "output_type": "execute_result"
    }
   ],
   "source": [
    "df['language_cld3'].value_counts().loc['si']"
   ]
  },
  {
   "cell_type": "code",
   "execution_count": 9,
   "id": "492fedca",
   "metadata": {
    "execution": {
     "iopub.execute_input": "2024-01-17T07:10:08.466428Z",
     "iopub.status.busy": "2024-01-17T07:10:08.465525Z",
     "iopub.status.idle": "2024-01-17T07:10:09.333567Z",
     "shell.execute_reply": "2024-01-17T07:10:09.332359Z"
    },
    "papermill": {
     "duration": 0.880853,
     "end_time": "2024-01-17T07:10:09.336277",
     "exception": false,
     "start_time": "2024-01-17T07:10:08.455424",
     "status": "completed"
    },
    "tags": []
   },
   "outputs": [
    {
     "data": {
      "text/plain": [
       "316"
      ]
     },
     "execution_count": 9,
     "metadata": {},
     "output_type": "execute_result"
    }
   ],
   "source": [
    "df['language_ft'].value_counts().loc['si']"
   ]
  },
  {
   "cell_type": "code",
   "execution_count": 10,
   "id": "b85d4677",
   "metadata": {
    "execution": {
     "iopub.execute_input": "2024-01-17T07:10:09.356585Z",
     "iopub.status.busy": "2024-01-17T07:10:09.356108Z",
     "iopub.status.idle": "2024-01-17T07:10:10.484946Z",
     "shell.execute_reply": "2024-01-17T07:10:10.483598Z"
    },
    "papermill": {
     "duration": 1.142393,
     "end_time": "2024-01-17T07:10:10.487866",
     "exception": false,
     "start_time": "2024-01-17T07:10:09.345473",
     "status": "completed"
    },
    "tags": []
   },
   "outputs": [],
   "source": [
    "# take only sinhala songs\n",
    "df = df[df['language_ft']=='si']"
   ]
  },
  {
   "cell_type": "code",
   "execution_count": 11,
   "id": "0dd36f3d",
   "metadata": {
    "execution": {
     "iopub.execute_input": "2024-01-17T07:10:10.510841Z",
     "iopub.status.busy": "2024-01-17T07:10:10.510421Z",
     "iopub.status.idle": "2024-01-17T07:10:10.524557Z",
     "shell.execute_reply": "2024-01-17T07:10:10.523653Z"
    },
    "papermill": {
     "duration": 0.030073,
     "end_time": "2024-01-17T07:10:10.527307",
     "exception": false,
     "start_time": "2024-01-17T07:10:10.497234",
     "status": "completed"
    },
    "tags": []
   },
   "outputs": [
    {
     "data": {
      "text/html": [
       "<div>\n",
       "<style scoped>\n",
       "    .dataframe tbody tr th:only-of-type {\n",
       "        vertical-align: middle;\n",
       "    }\n",
       "\n",
       "    .dataframe tbody tr th {\n",
       "        vertical-align: top;\n",
       "    }\n",
       "\n",
       "    .dataframe thead th {\n",
       "        text-align: right;\n",
       "    }\n",
       "</style>\n",
       "<table border=\"1\" class=\"dataframe\">\n",
       "  <thead>\n",
       "    <tr style=\"text-align: right;\">\n",
       "      <th></th>\n",
       "      <th>title</th>\n",
       "      <th>lyrics</th>\n",
       "      <th>id</th>\n",
       "      <th>language_cld3</th>\n",
       "      <th>language_ft</th>\n",
       "      <th>language</th>\n",
       "    </tr>\n",
       "  </thead>\n",
       "  <tbody>\n",
       "    <tr>\n",
       "      <th>214685</th>\n",
       "      <td>සිනාසෙන්න Sinasenna</td>\n",
       "      <td>[Verse 1: Ashanthi]\\nThere's a feeling in my m...</td>\n",
       "      <td>238802</td>\n",
       "      <td>en</td>\n",
       "      <td>si</td>\n",
       "      <td>NaN</td>\n",
       "    </tr>\n",
       "    <tr>\n",
       "      <th>214692</th>\n",
       "      <td>ඉඟි බිඟි Ingi Bingi</td>\n",
       "      <td>[Intro: Killer B]\\nYou know we do it big baby ...</td>\n",
       "      <td>238821</td>\n",
       "      <td>si</td>\n",
       "      <td>si</td>\n",
       "      <td>si</td>\n",
       "    </tr>\n",
       "    <tr>\n",
       "      <th>214949</th>\n",
       "      <td>ජීවිතේ විඳින්න Jeewithe Windinna</td>\n",
       "      <td>[Verse 1:]\\nවරෙන් යන්න අපිත් එක්ක කන්න බොන්න හ...</td>\n",
       "      <td>239252</td>\n",
       "      <td>si</td>\n",
       "      <td>si</td>\n",
       "      <td>si</td>\n",
       "    </tr>\n",
       "    <tr>\n",
       "      <th>214960</th>\n",
       "      <td>මොට්ටු Mottu</td>\n",
       "      <td>[Verse 1: La Signore]\\nමාතලේ හැදුව මම ගේ තට්ටු...</td>\n",
       "      <td>239292</td>\n",
       "      <td>si</td>\n",
       "      <td>si</td>\n",
       "      <td>si</td>\n",
       "    </tr>\n",
       "    <tr>\n",
       "      <th>214993</th>\n",
       "      <td>Tum Hi Ho Sinhala RnB Remake නුඹ නැති ලෝකේ</td>\n",
       "      <td>[Intro]\\nනුඹ නැති ලෝකේ පාලුයි මට දැන්\\nආයෙත් එ...</td>\n",
       "      <td>239373</td>\n",
       "      <td>si</td>\n",
       "      <td>si</td>\n",
       "      <td>si</td>\n",
       "    </tr>\n",
       "  </tbody>\n",
       "</table>\n",
       "</div>"
      ],
      "text/plain": [
       "                                             title  \\\n",
       "214685                         සිනාසෙන්න Sinasenna   \n",
       "214692                         ඉඟි බිඟි Ingi Bingi   \n",
       "214949            ජීවිතේ විඳින්න Jeewithe Windinna   \n",
       "214960                                මොට්ටු Mottu   \n",
       "214993  Tum Hi Ho Sinhala RnB Remake නුඹ නැති ලෝකේ   \n",
       "\n",
       "                                                   lyrics      id  \\\n",
       "214685  [Verse 1: Ashanthi]\\nThere's a feeling in my m...  238802   \n",
       "214692  [Intro: Killer B]\\nYou know we do it big baby ...  238821   \n",
       "214949  [Verse 1:]\\nවරෙන් යන්න අපිත් එක්ක කන්න බොන්න හ...  239252   \n",
       "214960  [Verse 1: La Signore]\\nමාතලේ හැදුව මම ගේ තට්ටු...  239292   \n",
       "214993  [Intro]\\nනුඹ නැති ලෝකේ පාලුයි මට දැන්\\nආයෙත් එ...  239373   \n",
       "\n",
       "       language_cld3 language_ft language  \n",
       "214685            en          si      NaN  \n",
       "214692            si          si       si  \n",
       "214949            si          si       si  \n",
       "214960            si          si       si  \n",
       "214993            si          si       si  "
      ]
     },
     "execution_count": 11,
     "metadata": {},
     "output_type": "execute_result"
    }
   ],
   "source": [
    "df.head()"
   ]
  },
  {
   "cell_type": "code",
   "execution_count": 12,
   "id": "30a6ffd5",
   "metadata": {
    "execution": {
     "iopub.execute_input": "2024-01-17T07:10:10.548243Z",
     "iopub.status.busy": "2024-01-17T07:10:10.547781Z",
     "iopub.status.idle": "2024-01-17T07:10:10.553824Z",
     "shell.execute_reply": "2024-01-17T07:10:10.553004Z"
    },
    "papermill": {
     "duration": 0.019394,
     "end_time": "2024-01-17T07:10:10.556303",
     "exception": false,
     "start_time": "2024-01-17T07:10:10.536909",
     "status": "completed"
    },
    "tags": []
   },
   "outputs": [
    {
     "data": {
      "text/plain": [
       "(316, 6)"
      ]
     },
     "execution_count": 12,
     "metadata": {},
     "output_type": "execute_result"
    }
   ],
   "source": [
    "# shape\n",
    "df.shape"
   ]
  },
  {
   "cell_type": "markdown",
   "id": "df8e4c02",
   "metadata": {
    "papermill": {
     "duration": 0.009303,
     "end_time": "2024-01-17T07:10:10.575294",
     "exception": false,
     "start_time": "2024-01-17T07:10:10.565991",
     "status": "completed"
    },
    "tags": []
   },
   "source": [
    "# Data Visualization"
   ]
  },
  {
   "cell_type": "code",
   "execution_count": 13,
   "id": "bd5a9f94",
   "metadata": {
    "execution": {
     "iopub.execute_input": "2024-01-17T07:10:10.597512Z",
     "iopub.status.busy": "2024-01-17T07:10:10.596796Z",
     "iopub.status.idle": "2024-01-17T07:10:10.613963Z",
     "shell.execute_reply": "2024-01-17T07:10:10.612827Z"
    },
    "papermill": {
     "duration": 0.031786,
     "end_time": "2024-01-17T07:10:10.616723",
     "exception": false,
     "start_time": "2024-01-17T07:10:10.584937",
     "status": "completed"
    },
    "tags": []
   },
   "outputs": [],
   "source": [
    "# checking the word count of the songs\n",
    "df['word_count'] = df['lyrics'].apply(lambda x: len(str(x).split()))"
   ]
  },
  {
   "cell_type": "code",
   "execution_count": 14,
   "id": "14287a06",
   "metadata": {
    "execution": {
     "iopub.execute_input": "2024-01-17T07:10:10.638573Z",
     "iopub.status.busy": "2024-01-17T07:10:10.637996Z",
     "iopub.status.idle": "2024-01-17T07:10:10.653831Z",
     "shell.execute_reply": "2024-01-17T07:10:10.652643Z"
    },
    "papermill": {
     "duration": 0.029585,
     "end_time": "2024-01-17T07:10:10.656224",
     "exception": false,
     "start_time": "2024-01-17T07:10:10.626639",
     "status": "completed"
    },
    "tags": []
   },
   "outputs": [
    {
     "data": {
      "text/html": [
       "<div>\n",
       "<style scoped>\n",
       "    .dataframe tbody tr th:only-of-type {\n",
       "        vertical-align: middle;\n",
       "    }\n",
       "\n",
       "    .dataframe tbody tr th {\n",
       "        vertical-align: top;\n",
       "    }\n",
       "\n",
       "    .dataframe thead th {\n",
       "        text-align: right;\n",
       "    }\n",
       "</style>\n",
       "<table border=\"1\" class=\"dataframe\">\n",
       "  <thead>\n",
       "    <tr style=\"text-align: right;\">\n",
       "      <th></th>\n",
       "      <th>title</th>\n",
       "      <th>lyrics</th>\n",
       "      <th>id</th>\n",
       "      <th>language_cld3</th>\n",
       "      <th>language_ft</th>\n",
       "      <th>language</th>\n",
       "      <th>word_count</th>\n",
       "    </tr>\n",
       "  </thead>\n",
       "  <tbody>\n",
       "    <tr>\n",
       "      <th>214685</th>\n",
       "      <td>සිනාසෙන්න Sinasenna</td>\n",
       "      <td>[Verse 1: Ashanthi]\\nThere's a feeling in my m...</td>\n",
       "      <td>238802</td>\n",
       "      <td>en</td>\n",
       "      <td>si</td>\n",
       "      <td>NaN</td>\n",
       "      <td>273</td>\n",
       "    </tr>\n",
       "    <tr>\n",
       "      <th>214692</th>\n",
       "      <td>ඉඟි බිඟි Ingi Bingi</td>\n",
       "      <td>[Intro: Killer B]\\nYou know we do it big baby ...</td>\n",
       "      <td>238821</td>\n",
       "      <td>si</td>\n",
       "      <td>si</td>\n",
       "      <td>si</td>\n",
       "      <td>369</td>\n",
       "    </tr>\n",
       "    <tr>\n",
       "      <th>214949</th>\n",
       "      <td>ජීවිතේ විඳින්න Jeewithe Windinna</td>\n",
       "      <td>[Verse 1:]\\nවරෙන් යන්න අපිත් එක්ක කන්න බොන්න හ...</td>\n",
       "      <td>239252</td>\n",
       "      <td>si</td>\n",
       "      <td>si</td>\n",
       "      <td>si</td>\n",
       "      <td>299</td>\n",
       "    </tr>\n",
       "    <tr>\n",
       "      <th>214960</th>\n",
       "      <td>මොට්ටු Mottu</td>\n",
       "      <td>[Verse 1: La Signore]\\nමාතලේ හැදුව මම ගේ තට්ටු...</td>\n",
       "      <td>239292</td>\n",
       "      <td>si</td>\n",
       "      <td>si</td>\n",
       "      <td>si</td>\n",
       "      <td>143</td>\n",
       "    </tr>\n",
       "    <tr>\n",
       "      <th>214993</th>\n",
       "      <td>Tum Hi Ho Sinhala RnB Remake නුඹ නැති ලෝකේ</td>\n",
       "      <td>[Intro]\\nනුඹ නැති ලෝකේ පාලුයි මට දැන්\\nආයෙත් එ...</td>\n",
       "      <td>239373</td>\n",
       "      <td>si</td>\n",
       "      <td>si</td>\n",
       "      <td>si</td>\n",
       "      <td>162</td>\n",
       "    </tr>\n",
       "  </tbody>\n",
       "</table>\n",
       "</div>"
      ],
      "text/plain": [
       "                                             title  \\\n",
       "214685                         සිනාසෙන්න Sinasenna   \n",
       "214692                         ඉඟි බිඟි Ingi Bingi   \n",
       "214949            ජීවිතේ විඳින්න Jeewithe Windinna   \n",
       "214960                                මොට්ටු Mottu   \n",
       "214993  Tum Hi Ho Sinhala RnB Remake නුඹ නැති ලෝකේ   \n",
       "\n",
       "                                                   lyrics      id  \\\n",
       "214685  [Verse 1: Ashanthi]\\nThere's a feeling in my m...  238802   \n",
       "214692  [Intro: Killer B]\\nYou know we do it big baby ...  238821   \n",
       "214949  [Verse 1:]\\nවරෙන් යන්න අපිත් එක්ක කන්න බොන්න හ...  239252   \n",
       "214960  [Verse 1: La Signore]\\nමාතලේ හැදුව මම ගේ තට්ටු...  239292   \n",
       "214993  [Intro]\\nනුඹ නැති ලෝකේ පාලුයි මට දැන්\\nආයෙත් එ...  239373   \n",
       "\n",
       "       language_cld3 language_ft language  word_count  \n",
       "214685            en          si      NaN         273  \n",
       "214692            si          si       si         369  \n",
       "214949            si          si       si         299  \n",
       "214960            si          si       si         143  \n",
       "214993            si          si       si         162  "
      ]
     },
     "execution_count": 14,
     "metadata": {},
     "output_type": "execute_result"
    }
   ],
   "source": [
    "df.head()"
   ]
  },
  {
   "cell_type": "code",
   "execution_count": 15,
   "id": "b244a184",
   "metadata": {
    "execution": {
     "iopub.execute_input": "2024-01-17T07:10:10.679369Z",
     "iopub.status.busy": "2024-01-17T07:10:10.678537Z",
     "iopub.status.idle": "2024-01-17T07:10:10.695669Z",
     "shell.execute_reply": "2024-01-17T07:10:10.694716Z"
    },
    "papermill": {
     "duration": 0.031953,
     "end_time": "2024-01-17T07:10:10.698460",
     "exception": false,
     "start_time": "2024-01-17T07:10:10.666507",
     "status": "completed"
    },
    "tags": []
   },
   "outputs": [
    {
     "data": {
      "text/plain": [
       "count     316.000000\n",
       "mean      271.477848\n",
       "std       194.569177\n",
       "min        28.000000\n",
       "25%       125.750000\n",
       "50%       233.000000\n",
       "75%       364.000000\n",
       "max      1613.000000\n",
       "Name: word_count, dtype: float64"
      ]
     },
     "execution_count": 15,
     "metadata": {},
     "output_type": "execute_result"
    }
   ],
   "source": [
    "# statistical info\n",
    "df['word_count'].describe()"
   ]
  },
  {
   "cell_type": "code",
   "execution_count": 16,
   "id": "85ec056e",
   "metadata": {
    "execution": {
     "iopub.execute_input": "2024-01-17T07:10:10.722302Z",
     "iopub.status.busy": "2024-01-17T07:10:10.721619Z",
     "iopub.status.idle": "2024-01-17T07:10:11.760294Z",
     "shell.execute_reply": "2024-01-17T07:10:11.758927Z"
    },
    "papermill": {
     "duration": 1.053421,
     "end_time": "2024-01-17T07:10:11.763017",
     "exception": false,
     "start_time": "2024-01-17T07:10:10.709596",
     "status": "completed"
    },
    "tags": []
   },
   "outputs": [
    {
     "data": {
      "text/plain": [
       "Text(0.5, 1.0, 'Frequency distribution of number of words for each text extracted')"
      ]
     },
     "execution_count": 16,
     "metadata": {},
     "output_type": "execute_result"
    },
    {
     "data": {
      "text/plain": [
       "<Figure size 1200x600 with 0 Axes>"
      ]
     },
     "metadata": {},
     "output_type": "display_data"
    },
    {
     "data": {
      "image/png": "[encoded data removed]",
      "text/plain": [
       "<Figure size 500x500 with 1 Axes>"
      ]
     },
     "metadata": {},
     "output_type": "display_data"
    }
   ],
   "source": [
    "plt.style.use('ggplot')\n",
    "plt.figure(figsize=(12,6))\n",
    "sns.displot(df['word_count'],kde = False,color=\"red\",bins=200)\n",
    "plt.title(\"Frequency distribution of number of words for each text extracted\", size=20)"
   ]
  },
  {
   "cell_type": "markdown",
   "id": "4dfacb96",
   "metadata": {
    "papermill": {
     "duration": 0.011438,
     "end_time": "2024-01-17T07:10:11.786297",
     "exception": false,
     "start_time": "2024-01-17T07:10:11.774859",
     "status": "completed"
    },
    "tags": []
   },
   "source": [
    "# Preprocessing"
   ]
  },
  {
   "cell_type": "code",
   "execution_count": 17,
   "id": "d3e301ac",
   "metadata": {
    "execution": {
     "iopub.execute_input": "2024-01-17T07:10:11.811163Z",
     "iopub.status.busy": "2024-01-17T07:10:11.810747Z",
     "iopub.status.idle": "2024-01-17T07:10:11.816854Z",
     "shell.execute_reply": "2024-01-17T07:10:11.815947Z"
    },
    "papermill": {
     "duration": 0.021835,
     "end_time": "2024-01-17T07:10:11.819470",
     "exception": false,
     "start_time": "2024-01-17T07:10:11.797635",
     "status": "completed"
    },
    "tags": []
   },
   "outputs": [],
   "source": [
    "#drop all records with more than 600 word_count\n",
    "df = df[df['word_count'] <= 600]"
   ]
  },
  {
   "cell_type": "code",
   "execution_count": 18,
   "id": "52e16d85",
   "metadata": {
    "execution": {
     "iopub.execute_input": "2024-01-17T07:10:11.845180Z",
     "iopub.status.busy": "2024-01-17T07:10:11.844123Z",
     "iopub.status.idle": "2024-01-17T07:10:11.850794Z",
     "shell.execute_reply": "2024-01-17T07:10:11.849810Z"
    },
    "papermill": {
     "duration": 0.021782,
     "end_time": "2024-01-17T07:10:11.853039",
     "exception": false,
     "start_time": "2024-01-17T07:10:11.831257",
     "status": "completed"
    },
    "tags": []
   },
   "outputs": [
    {
     "data": {
      "text/plain": [
       "(306, 7)"
      ]
     },
     "execution_count": 18,
     "metadata": {},
     "output_type": "execute_result"
    }
   ],
   "source": [
    "df.shape"
   ]
  },
  {
   "cell_type": "code",
   "execution_count": 19,
   "id": "310014f9",
   "metadata": {
    "execution": {
     "iopub.execute_input": "2024-01-17T07:10:11.878476Z",
     "iopub.status.busy": "2024-01-17T07:10:11.877979Z",
     "iopub.status.idle": "2024-01-17T07:10:12.161637Z",
     "shell.execute_reply": "2024-01-17T07:10:12.159441Z"
    },
    "papermill": {
     "duration": 0.300655,
     "end_time": "2024-01-17T07:10:12.165404",
     "exception": false,
     "start_time": "2024-01-17T07:10:11.864749",
     "status": "completed"
    },
    "tags": []
   },
   "outputs": [
    {
     "data": {
      "text/plain": [
       "[15,\n",
       " 60,\n",
       " 1925,\n",
       " 2363,\n",
       " 126,\n",
       " 1642,\n",
       " 249,\n",
       " 111,\n",
       " 1926,\n",
       " 468,\n",
       " 533,\n",
       " 8000,\n",
       " 369,\n",
       " 48,\n",
       " 223,\n",
       " 111,\n",
       " 2364,\n",
       " 8001,\n",
       " 1432,\n",
       " 111,\n",
       " 775,\n",
       " 185,\n",
       " 1927,\n",
       " 48,\n",
       " 628,\n",
       " 126,\n",
       " 8002,\n",
       " 261,\n",
       " 249,\n",
       " 61,\n",
       " 8003,\n",
       " 5088,\n",
       " 5089,\n",
       " 8004,\n",
       " 186,\n",
       " 2895,\n",
       " 369,\n",
       " 166,\n",
       " 223,\n",
       " 111,\n",
       " 8005,\n",
       " 469,\n",
       " 1433,\n",
       " 17,\n",
       " 5090,\n",
       " 370,\n",
       " 2896,\n",
       " 4,\n",
       " 371,\n",
       " 5091,\n",
       " 2896,\n",
       " 1140,\n",
       " 5092,\n",
       " 5093,\n",
       " 5094,\n",
       " 125,\n",
       " 5095,\n",
       " 717,\n",
       " 3714,\n",
       " 21,\n",
       " 1433,\n",
       " 2365,\n",
       " 320,\n",
       " 1141,\n",
       " 670,\n",
       " 1928,\n",
       " 3715,\n",
       " 241,\n",
       " 2897,\n",
       " 151,\n",
       " 2898,\n",
       " 280,\n",
       " 846,\n",
       " 250,\n",
       " 10,\n",
       " 1929,\n",
       " 57,\n",
       " 280,\n",
       " 1643,\n",
       " 2366,\n",
       " 718,\n",
       " 3716,\n",
       " 3717,\n",
       " 15,\n",
       " 53,\n",
       " 1925,\n",
       " 2899,\n",
       " 560,\n",
       " 1028,\n",
       " 126,\n",
       " 2900,\n",
       " 185,\n",
       " 1434,\n",
       " 1142,\n",
       " 8006,\n",
       " 166,\n",
       " 223,\n",
       " 321,\n",
       " 204,\n",
       " 1285,\n",
       " 938,\n",
       " 111,\n",
       " 1435,\n",
       " 185,\n",
       " 1436,\n",
       " 186,\n",
       " 1432,\n",
       " 48,\n",
       " 3718,\n",
       " 938,\n",
       " 111,\n",
       " 1435,\n",
       " 2901,\n",
       " 3719,\n",
       " 1644,\n",
       " 249,\n",
       " 61,\n",
       " 8007,\n",
       " 1434,\n",
       " 223,\n",
       " 204,\n",
       " 2902,\n",
       " 1434,\n",
       " 223,\n",
       " 204,\n",
       " 2902,\n",
       " 1930,\n",
       " 3720,\n",
       " 223,\n",
       " 2367,\n",
       " 938,\n",
       " 111,\n",
       " 8008,\n",
       " 1437,\n",
       " 5096,\n",
       " 186,\n",
       " 126,\n",
       " 8009,\n",
       " 1645,\n",
       " 48,\n",
       " 223,\n",
       " 2368,\n",
       " 469,\n",
       " 1433,\n",
       " 17,\n",
       " 5090,\n",
       " 370,\n",
       " 2896,\n",
       " 4,\n",
       " 371,\n",
       " 5091,\n",
       " 2896,\n",
       " 1140,\n",
       " 5092,\n",
       " 5093,\n",
       " 5094,\n",
       " 125,\n",
       " 5095,\n",
       " 717,\n",
       " 3714,\n",
       " 21,\n",
       " 1433,\n",
       " 2365,\n",
       " 320,\n",
       " 1141,\n",
       " 670,\n",
       " 1928,\n",
       " 3715,\n",
       " 241,\n",
       " 2897,\n",
       " 151,\n",
       " 2898,\n",
       " 280,\n",
       " 846,\n",
       " 250,\n",
       " 10,\n",
       " 1929,\n",
       " 57,\n",
       " 280,\n",
       " 1643,\n",
       " 2366,\n",
       " 718,\n",
       " 3716,\n",
       " 3717,\n",
       " 21,\n",
       " 1433,\n",
       " 1925,\n",
       " 2365,\n",
       " 320,\n",
       " 1141,\n",
       " 670,\n",
       " 1928,\n",
       " 223,\n",
       " 321,\n",
       " 204,\n",
       " 1285,\n",
       " 3715,\n",
       " 241,\n",
       " 2897,\n",
       " 151,\n",
       " 2898,\n",
       " 280,\n",
       " 938,\n",
       " 111,\n",
       " 1435,\n",
       " 2901,\n",
       " 3719,\n",
       " 1644,\n",
       " 846,\n",
       " 250,\n",
       " 10,\n",
       " 1929,\n",
       " 57,\n",
       " 280,\n",
       " 1434,\n",
       " 223,\n",
       " 204,\n",
       " 2902,\n",
       " 1930,\n",
       " 3720,\n",
       " 223,\n",
       " 2367,\n",
       " 1643,\n",
       " 2366,\n",
       " 718,\n",
       " 3716,\n",
       " 3717,\n",
       " 1645,\n",
       " 48,\n",
       " 223,\n",
       " 2368,\n",
       " 776,\n",
       " 1433,\n",
       " 1925,\n",
       " 2365,\n",
       " 320,\n",
       " 1141,\n",
       " 670,\n",
       " 1928,\n",
       " 223,\n",
       " 321,\n",
       " 204,\n",
       " 1285,\n",
       " 1643,\n",
       " 2366,\n",
       " 718,\n",
       " 71,\n",
       " 1931,\n",
       " 57,\n",
       " 280,\n",
       " 938,\n",
       " 111,\n",
       " 1435,\n",
       " 2901,\n",
       " 3719,\n",
       " 1644,\n",
       " 2365,\n",
       " 320,\n",
       " 1141,\n",
       " 670,\n",
       " 1928,\n",
       " 1434,\n",
       " 223,\n",
       " 204,\n",
       " 2902,\n",
       " 1930,\n",
       " 3720,\n",
       " 223,\n",
       " 2367,\n",
       " 1643,\n",
       " 2366,\n",
       " 718,\n",
       " 71,\n",
       " 1931,\n",
       " 57,\n",
       " 280,\n",
       " 1645,\n",
       " 48,\n",
       " 223,\n",
       " 2368]"
      ]
     },
     "execution_count": 19,
     "metadata": {},
     "output_type": "execute_result"
    }
   ],
   "source": [
    "# Tokenization\n",
    "tokenizer = Tokenizer()\n",
    "# Fit the tokenizer on the lowercased lyrics column in the DataFrame\n",
    "tokenizer.fit_on_texts(df['lyrics'].astype(str).str.lower())\n",
    "\n",
    "# Calculate the total number of unique words in the lyrics dataset\n",
    "total_words = len(tokenizer.word_index)+1\n",
    "# Tokenize the lyrics using the fitted tokenizer\n",
    "tokenized_sentences = tokenizer.texts_to_sequences(df['lyrics'].astype(str))\n",
    "# Print the tokenized sentence for the first entry in the DataFrame\n",
    "tokenized_sentences[0]"
   ]
  },
  {
   "cell_type": "code",
   "execution_count": 20,
   "id": "1c0afafd",
   "metadata": {
    "execution": {
     "iopub.execute_input": "2024-01-17T07:10:12.193612Z",
     "iopub.status.busy": "2024-01-17T07:10:12.193195Z",
     "iopub.status.idle": "2024-01-17T07:10:13.946012Z",
     "shell.execute_reply": "2024-01-17T07:10:13.944698Z"
    },
    "papermill": {
     "duration": 1.770251,
     "end_time": "2024-01-17T07:10:13.949091",
     "exception": false,
     "start_time": "2024-01-17T07:10:12.178840",
     "status": "completed"
    },
    "tags": []
   },
   "outputs": [],
   "source": [
    "# Slash sequences into n-gram sequences\n",
    "input_sequences = list()\n",
    "\n",
    "# Iterate over each tokenized sentence\n",
    "for i in tokenized_sentences:\n",
    "    # Iterate over each token in the tokenized sentence\n",
    "    for t in range(1, len(i)):\n",
    "        # Create an n-gram sequence from the beginning to the current token\n",
    "        n_gram_sequence = i[:t+1]\n",
    "        # Append the n-gram sequence to the list of input sequences\n",
    "        input_sequences.append(n_gram_sequence)\n",
    "\n",
    "# prepadding\n",
    "# Find the maximum sequence length among all input sequences\n",
    "max_sequence_len = max([len(x) for x in input_sequences])\n",
    "\n",
    "# Convert the list of input sequences into a numpy array with pre-padding\n",
    "input_sequences = np.array(pad_sequences(input_sequences, maxlen=max_sequence_len, padding='pre'))"
   ]
  },
  {
   "cell_type": "code",
   "execution_count": 21,
   "id": "99a2d9af",
   "metadata": {
    "execution": {
     "iopub.execute_input": "2024-01-17T07:10:13.976650Z",
     "iopub.status.busy": "2024-01-17T07:10:13.975324Z",
     "iopub.status.idle": "2024-01-17T07:10:13.983572Z",
     "shell.execute_reply": "2024-01-17T07:10:13.982690Z"
    },
    "papermill": {
     "duration": 0.023831,
     "end_time": "2024-01-17T07:10:13.985680",
     "exception": false,
     "start_time": "2024-01-17T07:10:13.961849",
     "status": "completed"
    },
    "tags": []
   },
   "outputs": [
    {
     "data": {
      "text/plain": [
       "array([[   0,    0,    0, ...,    0,   15,   60],\n",
       "       [   0,    0,    0, ...,   15,   60, 1925],\n",
       "       [   0,    0,    0, ...,   60, 1925, 2363],\n",
       "       ...,\n",
       "       [   0,    0,    0, ...,  249,  111, 1926],\n",
       "       [   0,    0,    0, ...,  111, 1926,  468],\n",
       "       [   0,    0,    0, ..., 1926,  468,  533]], dtype=int32)"
      ]
     },
     "execution_count": 21,
     "metadata": {},
     "output_type": "execute_result"
    }
   ],
   "source": [
    "# Display the first 10 entries of the input_sequences array\n",
    "input_sequences[:10]"
   ]
  },
  {
   "cell_type": "code",
   "execution_count": 22,
   "id": "8797c03f",
   "metadata": {
    "execution": {
     "iopub.execute_input": "2024-01-17T07:10:14.012486Z",
     "iopub.status.busy": "2024-01-17T07:10:14.012027Z",
     "iopub.status.idle": "2024-01-17T07:10:14.220867Z",
     "shell.execute_reply": "2024-01-17T07:10:14.219913Z"
    },
    "papermill": {
     "duration": 0.225258,
     "end_time": "2024-01-17T07:10:14.223493",
     "exception": false,
     "start_time": "2024-01-17T07:10:13.998235",
     "status": "completed"
    },
    "tags": []
   },
   "outputs": [],
   "source": [
    "# create predictors and label\n",
    "X, labels = input_sequences[:,:-1],input_sequences[:,-1]\n",
    "y = tf.keras.utils.to_categorical(labels, num_classes=total_words)"
   ]
  },
  {
   "cell_type": "markdown",
   "id": "09ddf006",
   "metadata": {
    "papermill": {
     "duration": 0.012291,
     "end_time": "2024-01-17T07:10:14.248321",
     "exception": false,
     "start_time": "2024-01-17T07:10:14.236030",
     "status": "completed"
    },
    "tags": []
   },
   "source": [
    "# LSTM model development"
   ]
  },
  {
   "cell_type": "code",
   "execution_count": 23,
   "id": "44c1a1a5",
   "metadata": {
    "execution": {
     "iopub.execute_input": "2024-01-17T07:10:14.276577Z",
     "iopub.status.busy": "2024-01-17T07:10:14.275851Z",
     "iopub.status.idle": "2024-01-17T12:14:55.004101Z",
     "shell.execute_reply": "2024-01-17T12:14:55.000428Z"
    },
    "papermill": {
     "duration": 18280.745913,
     "end_time": "2024-01-17T12:14:55.007421",
     "exception": false,
     "start_time": "2024-01-17T07:10:14.261508",
     "status": "completed"
    },
    "tags": []
   },
   "outputs": [
    {
     "name": "stdout",
     "output_type": "stream",
     "text": [
      "Epoch 1/5\n",
      "2337/2337 [==============================] - 3570s 2s/step - loss: 8.9192 - accuracy: 0.0117\n",
      "Epoch 2/5\n",
      "2337/2337 [==============================] - 3711s 2s/step - loss: 8.3051 - accuracy: 0.0177\n",
      "Epoch 3/5\n",
      "2337/2337 [==============================] - 3667s 2s/step - loss: 7.7258 - accuracy: 0.0352\n",
      "Epoch 4/5\n",
      "2337/2337 [==============================] - 3616s 2s/step - loss: 7.0979 - accuracy: 0.0697\n",
      "Epoch 5/5\n",
      "2337/2337 [==============================] - 3659s 2s/step - loss: 6.2698 - accuracy: 0.1203\n"
     ]
    }
   ],
   "source": [
    "model = Sequential()\n",
    "model.add(Embedding(total_words, 10, input_length=max_sequence_len-1))\n",
    "model.add(Bidirectional(LSTM(250)))\n",
    "model.add(Dropout(0.1))\n",
    "model.add(Dense(total_words, activation='softmax'))\n",
    "model.compile(loss='categorical_crossentropy', optimizer='adam', metrics=['accuracy'])\n",
    "earlystop = EarlyStopping(monitor='loss', min_delta=0, patience=3, verbose=0, mode='auto')\n",
    "history = model.fit(X, y, epochs=5, verbose=1, callbacks=[earlystop])"
   ]
  },
  {
   "cell_type": "code",
   "execution_count": null,
   "id": "67d0a35d",
   "metadata": {
    "papermill": {
     "duration": 1.303007,
     "end_time": "2024-01-17T12:14:57.457490",
     "exception": false,
     "start_time": "2024-01-17T12:14:56.154483",
     "status": "completed"
    },
    "tags": []
   },
   "outputs": [],
   "source": []
  }
 ],
 "metadata": {
  "kaggle": {
   "accelerator": "none",
   "dataSources": [
    {
     "datasetId": 2805070,
     "sourceId": 4840139,
     "sourceType": "datasetVersion"
    }
   ],
   "dockerImageVersionId": 30635,
   "isGpuEnabled": false,
   "isInternetEnabled": false,
   "language": "python",
   "sourceType": "notebook"
  },
  "kernelspec": {
   "display_name": "Python 3",
   "language": "python",
   "name": "python3"
  },
  "language_info": {
   "codemirror_mode": {
    "name": "ipython",
    "version": 3
   },
   "file_extension": ".py",
   "mimetype": "text/x-python",
   "name": "python",
   "nbconvert_exporter": "python",
   "pygments_lexer": "ipython3",
   "version": "3.10.12"
  },
  "papermill": {
   "default_parameters": {},
   "duration": 18580.215121,
   "end_time": "2024-01-17T12:15:02.792655",
   "environment_variables": {},
   "exception": null,
   "input_path": "__notebook__.ipynb",
   "output_path": "__notebook__.ipynb",
   "parameters": {},
   "start_time": "2024-01-17T07:05:22.577534",
   "version": "2.4.0"
  }
 },
 "nbformat": 4,
 "nbformat_minor": 5
}
